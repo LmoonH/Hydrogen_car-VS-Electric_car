{
  "nbformat": 4,
  "nbformat_minor": 0,
  "metadata": {
    "colab": {
      "provenance": []
    },
    "kernelspec": {
      "name": "python3",
      "display_name": "Python 3"
    },
    "language_info": {
      "name": "python"
    }
  },
  "cells": [
    {
      "cell_type": "code",
      "source": [
        "#@title 그래프 해상도 설정\n",
        "import matplotlib.pyplot as plt\n",
        "plt.rcParams.update({'figure.dpi' : '100'})\n",
        "%config InlineBackend.figure_format = 'retina'"
      ],
      "metadata": {
        "id": "mF4ZOkcTvHek"
      },
      "execution_count": null,
      "outputs": []
    },
    {
      "cell_type": "code",
      "execution_count": null,
      "metadata": {
        "id": "Bl-ZGtf4DMq7"
      },
      "outputs": [],
      "source": [
        "#@title 라이브러리 및 CSV파일\n",
        "import folium\n",
        "import json\n",
        "import glob\n",
        "import os\n",
        "import pandas as pd\n",
        "import numpy as np\n",
        "import seaborn as sns\n",
        "import plotly.express as px\n",
        "import matplotlib.pyplot as plt\n",
        "from matplotlib import rcParams\n",
        "plt.rc('font', family='NanumBarunGothic')\n",
        "\n",
        "suso = pd.read_csv('/content/Public_data/22.2_자치구별_수소차_차종별.csv')\n",
        "electro = pd.read_csv('/content/Public_data/22.2_자치구별_전기차_차종별.csv')\n",
        "result = pd.read_csv('/content/Public_data/자동차+등록현황(연료별).csv')\n",
        "charge = pd.read_csv('/content/Public_data/한국도로공사_충전소 현황_20210901.csv',encoding='CP949')\n",
        "\n"
      ]
    },
    {
      "cell_type": "code",
      "source": [
        "#@title 데이터 전처리\n",
        "\n",
        "#NaN 개수 확인\n",
        "suso.isnull().sum(axis=0)\n",
        "\n",
        "#NaN 있는 행 0으로 채우기\n",
        "suso.fillna(0) \n",
        "\n",
        "#중복데이터 확인\n",
        "suso.duplicated()"
      ],
      "metadata": {
        "id": "ZSqWUe6n8OjO"
      },
      "execution_count": null,
      "outputs": []
    },
    {
      "cell_type": "code",
      "source": [
        "#NaN 개수 확인\n",
        "electro.isnull().sum(axis=0)\n",
        "\n",
        "#NaN 있는 행 0으로 채우기\n",
        "electro.fillna(0) \n",
        "\n",
        "#중복데이터 확인\n",
        "electro.duplicated()\n"
      ],
      "metadata": {
        "id": "ITpcZJ38_DcV"
      },
      "execution_count": null,
      "outputs": []
    },
    {
      "cell_type": "code",
      "source": [
        "#@title 시군구별 수소차 그래프 \n",
        "\n",
        "w = 0.15\n",
        "nrow = suso.shape[0] # 행의 갯수\n",
        "idx = np.arange(nrow) #행의 갯수를 리스트로\n",
        "\n",
        "plt.figure(figsize = (10, 5))\n",
        "plt.title('시군구별 수소차_차종별_분류')\n",
        "plt.xlabel('시군구별')\n",
        "plt.ylabel('차종별 숫자자')\n",
        "plt.bar(idx - 2 * w, suso['승용차'], width = w, label = '승용차')\n",
        "plt.bar(idx - w, suso['승합차'], width = w, label = '승합차')\n",
        "plt.bar(idx, suso['화물차'], width = w, label = '화물차')\n",
        "plt.bar(idx + w, suso['특수차'], width = w, label = '특수차')\n",
        "plt.xticks(idx, suso['시군구별'], rotation = 30)\n",
        "plt.legend(ncol = 25)\n",
        "plt.show()"
      ],
      "metadata": {
        "id": "79ey7xBpvO9b"
      },
      "execution_count": null,
      "outputs": []
    },
    {
      "cell_type": "code",
      "source": [
        "w = 0.15\n",
        "nrow = electro.shape[0] # 행의 갯수\n",
        "idx = np.arange(nrow) #행의 갯수를 리스트로\n",
        "\n",
        "plt.figure(figsize = (10, 5))\n",
        "plt.title('시군구별 수소차_차종별_분류')\n",
        "plt.xlabel('시군구별')\n",
        "plt.ylabel('차종별 숫자자')\n",
        "plt.bar(idx - 2 * w, electro['승용차'], width = w, label = '승용차')\n",
        "plt.bar(idx - w, electro['승합차'], width = w, label = '승합차')\n",
        "plt.bar(idx, electro['화물차'], width = w, label = '화물차')\n",
        "plt.bar(idx + w, electro['특수차'], width = w, label = '특수차')\n",
        "plt.xticks(idx, electro['시군구별'], rotation = 30)\n",
        "plt.legend(ncol = 25)\n",
        "plt.show()"
      ],
      "metadata": {
        "id": "rPhttnoX5BiM"
      },
      "execution_count": null,
      "outputs": []
    },
    {
      "cell_type": "code",
      "source": [
        "#@title 원하는 데이터로 가공\n",
        "\n",
        "#2개의 데이터 병합 합집합으로 병합 \n",
        "df = pd.merge(suso, electro, how='outer', on='시군구별')\n",
        "print(df.head(5))\n",
        "\n",
        "#필요없는 행 삭제 및 인덱스 이름 변경\n",
        "#필요없는 열 삭제\n",
        "df.drop(['승용차_x',  '승합차_x',  '화물차_x',  '특수차_x'], axis=1, inplace=True)\n",
        "df.drop(['승용차_y',  '승합차_y',  '화물차_y',  '특수차_y'], axis=1, inplace=True)\n",
        "df.drop(['연료별_x','연료별_y'], axis=1, inplace=True)\n",
        "\n",
        "#인덱스 이름 변경\n",
        "df.rename(columns={'총합_x':'수소차','총합_y':'전기차'}, inplace=True)\n",
        "df"
      ],
      "metadata": {
        "id": "R6Pr6lmnVbOb"
      },
      "execution_count": null,
      "outputs": []
    },
    {
      "cell_type": "code",
      "source": [
        "#@title 서울시 시군구별 연료별 등록 현황\n",
        "\n",
        "w = 0.15\n",
        "nrow = df.shape[0] # 행의 갯수\n",
        "idx = np.arange(nrow) #행의 갯수를 리스트로\n",
        "\n",
        "#그래프 사이즈 결정\n",
        "plt.figure(figsize = (15, 7))\n",
        "plt.title('서울시 시군구별 연료별 등록현황',fontsize=30) #그래프 제목\n",
        "plt.xlabel('시군구별',fontsize=15)            #x축 이름\n",
        "plt.ylabel('등록수',fontsize=15)  #y축 이름름\n",
        "plt.bar(idx - 2 * w, df['수소차'], width = w, label = '수소차',color='b')\n",
        "plt.bar(idx - w , df['전기차'], width = w, label = '전기차',color='r')\n",
        "plt.xticks(idx, df['시군구별'], rotation = 30,fontsize=15) #x축 label 회전 각도\n",
        "plt.legend() # 그래프 범례 위치\n",
        "plt.show()"
      ],
      "metadata": {
        "id": "DG-Gjf5qZZAF"
      },
      "execution_count": null,
      "outputs": []
    },
    {
      "cell_type": "code",
      "source": [
        "#@title 서울시 2021.03 ~ 2021.12까지 연료별 차량 등록 수\n",
        "\n",
        "w = 0.15\n",
        "nrow = result.shape[0] # 행의 갯수\n",
        "idx = np.arange(nrow) #행의 갯수를 리스트로\n",
        "\n",
        "#그래프 사이즈 결정\n",
        "plt.figure(figsize = (15, 7))\n",
        "plt.title('연료별 등록 현황',fontsize=30) #그래프 제목\n",
        "plt.xlabel('날짜',fontsize=15)            #x축 이름\n",
        "plt.ylabel('연료별 등록 수',fontsize=15)  #y축 이름름\n",
        "plt.bar(idx - 2 * w, result['수소'], width = w, label = '수소차',color='b')\n",
        "plt.bar(idx - w , result['전기'], width = w, label = '전기차',color='r')\n",
        "plt.xticks(idx, result['날짜'], rotation = 30,fontsize=15) #x축 label 회전 각도\n",
        "plt.legend() # 그래프 범례 위치\n",
        "plt.show()\n"
      ],
      "metadata": {
        "id": "tcCilqVxLC_q"
      },
      "execution_count": null,
      "outputs": []
    },
    {
      "cell_type": "code",
      "source": [
        "#@title 증가그래프\n",
        "\n",
        "#인덱스 변경\n",
        "#result.set_index(\"날짜\",inplace=True)\n",
        "\n",
        "sns.set_style('white')\n",
        "ax=sns.lineplot(data=result, x='날짜',y='수소',marker='o',color='b',linestyle='-',label='hydrogen')\n",
        "ax.set(xlabel='날짜',ylabel='연료별',title='2021_연료별 증가추세')\n",
        "#plt.figure(figzide=(20,10))\n",
        "ax"
      ],
      "metadata": {
        "id": "2UNEtKA3IHm4"
      },
      "execution_count": null,
      "outputs": []
    },
    {
      "cell_type": "code",
      "source": [
        "ax = px.bar(df, x='시군구별',y=['수소차','전기차'])\n",
        "ax.update_layout(width=700)"
      ],
      "metadata": {
        "id": "e0hY_hywTmI6"
      },
      "execution_count": null,
      "outputs": []
    },
    {
      "cell_type": "code",
      "source": [
        "#@title 시군구별 연료별 등록 현황\n",
        "fig = plt.figure(figsize=(40,10))\n",
        "\n",
        "ax1 = fig.add_subplot(1,2,1)\n",
        "sns.lineplot(x=df['시군구별'], y=df['수소차'], marker='o', linestyle='-', color='b',label='hydrogen')\n",
        "ax1.set_title('시군구별 수소차 등록 현황',fontsize=30)\n",
        "ax1=plt.xlabel('시군구',fontsize=20)            #x축 이름\n",
        "ax1=plt.xticks(fontsize=20,rotation=45)         #x축 눈금 폰트 사이즈 및 기울기 처리\n",
        "ax1=plt.ylabel('수소차 등록 수',fontsize=20)    #y축 이름 및 사이즈\n",
        "ax1=plt.yticks(fontsize=20)                     #y축 눈금 폰트 사이즈 변경\n",
        "\n",
        "ax2 = fig.add_subplot(1,2,2)\n",
        "sns.lineplot(x=df['시군구별'],y=df['전기차'], marker='o', linestyle='-', color='r',label='electronic')\n",
        "ax2.set_title('시군구별 전기차 등록 현황',fontsize=30)\n",
        "ax2=plt.xlabel('시군구',fontsize=20)            #x축 이름\n",
        "ax2=plt.xticks(fontsize=20,rotation=45)         #x축 눈금 폰트 사이즈 및 기울기 처리\n",
        "ax2=plt.ylabel('전기차 등록 수',fontsize=20)   #y축 이름름\n",
        "ax2=plt.yticks(fontsize=20)                    #y축 눈금 폰트 사이즈 변경\n"
      ],
      "metadata": {
        "id": "V8hMsxQiGjMv"
      },
      "execution_count": null,
      "outputs": []
    },
    {
      "cell_type": "code",
      "source": [
        "fig = sns.catplot(data=result,x='날짜',y='수소',kind='point',color='blue')\n",
        "fig.fig.set_size_inches(10,6)\n",
        "plt.xticks(rotation = 45)\n",
        "plt.show()"
      ],
      "metadata": {
        "id": "1WBTHPkJFYXz"
      },
      "execution_count": null,
      "outputs": []
    },
    {
      "cell_type": "code",
      "source": [
        "#@title 한국도로공사 휴게소 전기차 충전소 현황\n",
        "\n",
        "ax1 = sns.countplot(data=charge,x='전기차 충전소',hue='전기차 충전소')\n",
        "ax1.set_title('한국도로공사 휴게소 전기차 충전소 유무',fontsize=20)\n",
        "ax1=plt.xlabel('전기r차 충전소',fontsize=10)           #x축 이름\n",
        "ax1=plt.xticks(fontsize=10)                           #x축 눈금 폰트 사이즈 및 기울기 처리\n",
        "ax1=plt.ylabel('유무',fontsize=10)                    #y축 이름 및 사이즈\n",
        "ax1=plt.yticks(fontsize=10)                           #y축 눈금 폰트 사이즈 변경\n"
      ],
      "metadata": {
        "id": "CmypQtLH6Fnd"
      },
      "execution_count": null,
      "outputs": []
    },
    {
      "cell_type": "code",
      "source": [
        "#@title 한국도로공사 휴게소 수소차 충전소 현황\n",
        "\n",
        "ax1 = sns.countplot(data=charge,x='수소차 충전소',hue='수소차 충전소')\n",
        "ax1.set_title('한국도로공사 휴게소 수소차 충전소 유무',fontsize=20)\n",
        "ax1=plt.xlabel('수소차 충전소',fontsize=10)           #x축 이름\n",
        "ax1=plt.xticks(fontsize=10)                           #x축 눈금 폰트 사이즈 및 기울기 처리\n",
        "ax1=plt.ylabel('유무',fontsize=10)                    #y축 이름 및 사이즈\n",
        "ax1=plt.yticks(fontsize=10)                           #y축 눈금 폰트 사이즈 변경"
      ],
      "metadata": {
        "id": "6rNOxRZ28sw0"
      },
      "execution_count": null,
      "outputs": []
    }
  ]
}